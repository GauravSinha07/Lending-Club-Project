{
 "cells": [
  {
   "cell_type": "code",
   "execution_count": 1,
   "id": "ebf876c2",
   "metadata": {},
   "outputs": [],
   "source": [
    "from pyspark.sql import SparkSession\n",
    "import getpass\n",
    "username=getpass.getuser()\n",
    "spark=SparkSession.\\\n",
    "builder.\\\n",
    "config('spark.ui.port','0').\\\n",
    "config(\"spark.sql.warehouse.dir\",f\"/user/{username}/warehouse\").\\\n",
    "enableHiveSupport().\\\n",
    "master('yarn').\\\n",
    "getOrCreate()"
   ]
  },
  {
   "cell_type": "code",
   "execution_count": 2,
   "id": "ebcf9b6b",
   "metadata": {},
   "outputs": [
    {
     "data": {
      "text/html": [
       "\n",
       "            <div>\n",
       "                <p><b>SparkSession - hive</b></p>\n",
       "                \n",
       "        <div>\n",
       "            <p><b>SparkContext</b></p>\n",
       "\n",
       "            <p><a href=\"http://g02.itversity.com:37187\">Spark UI</a></p>\n",
       "\n",
       "            <dl>\n",
       "              <dt>Version</dt>\n",
       "                <dd><code>v3.1.2</code></dd>\n",
       "              <dt>Master</dt>\n",
       "                <dd><code>yarn</code></dd>\n",
       "              <dt>AppName</dt>\n",
       "                <dd><code>pyspark-shell</code></dd>\n",
       "            </dl>\n",
       "        </div>\n",
       "        \n",
       "            </div>\n",
       "        "
      ],
      "text/plain": [
       "<pyspark.sql.session.SparkSession at 0x7efcfcfe6828>"
      ]
     },
     "execution_count": 2,
     "metadata": {},
     "output_type": "execute_result"
    }
   ],
   "source": [
    "spark"
   ]
  },
  {
   "cell_type": "code",
   "execution_count": 3,
   "id": "a1558840",
   "metadata": {},
   "outputs": [],
   "source": [
    "orders_rdd=spark.sparkContext.textFile(\"/public/retail_db/orders/part-00000\")"
   ]
  },
  {
   "cell_type": "code",
   "execution_count": 5,
   "id": "373d6383",
   "metadata": {},
   "outputs": [
    {
     "data": {
      "text/plain": [
       "['1,2013-07-25 00:00:00.0,11599,CLOSED',\n",
       " '2,2013-07-25 00:00:00.0,256,PENDING_PAYMENT',\n",
       " '3,2013-07-25 00:00:00.0,12111,COMPLETE',\n",
       " '4,2013-07-25 00:00:00.0,8827,CLOSED',\n",
       " '5,2013-07-25 00:00:00.0,11318,COMPLETE',\n",
       " '6,2013-07-25 00:00:00.0,7130,COMPLETE',\n",
       " '7,2013-07-25 00:00:00.0,4530,COMPLETE',\n",
       " '8,2013-07-25 00:00:00.0,2911,PROCESSING',\n",
       " '9,2013-07-25 00:00:00.0,5657,PENDING_PAYMENT',\n",
       " '10,2013-07-25 00:00:00.0,5648,PENDING_PAYMENT']"
      ]
     },
     "execution_count": 5,
     "metadata": {},
     "output_type": "execute_result"
    }
   ],
   "source": [
    "orders_rdd.take(10)#take is an action, collect will show all records"
   ]
  },
  {
   "cell_type": "markdown",
   "id": "fcdf0f0c",
   "metadata": {},
   "source": [
    "# 1. Count orders under each status"
   ]
  },
  {
   "cell_type": "code",
   "execution_count": 6,
   "id": "96b914c5",
   "metadata": {},
   "outputs": [],
   "source": [
    "mapped_rdd=orders_rdd.map(lambda x: (x.split(\",\")[3],1))"
   ]
  },
  {
   "cell_type": "code",
   "execution_count": 7,
   "id": "1bc315b4",
   "metadata": {},
   "outputs": [
    {
     "data": {
      "text/plain": [
       "[('CLOSED', 1),\n",
       " ('PENDING_PAYMENT', 1),\n",
       " ('COMPLETE', 1),\n",
       " ('CLOSED', 1),\n",
       " ('COMPLETE', 1)]"
      ]
     },
     "execution_count": 7,
     "metadata": {},
     "output_type": "execute_result"
    }
   ],
   "source": [
    "mapped_rdd.take(5)"
   ]
  },
  {
   "cell_type": "code",
   "execution_count": 10,
   "id": "37bad4e8",
   "metadata": {},
   "outputs": [
    {
     "data": {
      "text/plain": [
       "defaultdict(int,\n",
       "            {('CLOSED', 1): 7556,\n",
       "             ('PENDING_PAYMENT', 1): 15030,\n",
       "             ('COMPLETE', 1): 22899,\n",
       "             ('PROCESSING', 1): 8275,\n",
       "             ('PAYMENT_REVIEW', 1): 729,\n",
       "             ('PENDING', 1): 7610,\n",
       "             ('ON_HOLD', 1): 3798,\n",
       "             ('CANCELED', 1): 1428,\n",
       "             ('SUSPECTED_FRAUD', 1): 1558})"
      ]
     },
     "execution_count": 10,
     "metadata": {},
     "output_type": "execute_result"
    }
   ],
   "source": [
    "#or\n",
    "mapped_rdd.countByValue()#its an action as it displays result after execution\n",
    "#use it when you know that after this there is no transformation"
   ]
  },
  {
   "cell_type": "markdown",
   "id": "18810131",
   "metadata": {},
   "source": [
    "# reduce will give single output"
   ]
  },
  {
   "cell_type": "code",
   "execution_count": 10,
   "id": "efe4e57a",
   "metadata": {},
   "outputs": [],
   "source": [
    "reduced_rdd=mapped_rdd.reduceByKey(lambda x,y:x+y)"
   ]
  },
  {
   "cell_type": "code",
   "execution_count": 11,
   "id": "353c7e70",
   "metadata": {},
   "outputs": [
    {
     "data": {
      "text/plain": [
       "[('CLOSED', 7556),\n",
       " ('CANCELED', 1428),\n",
       " ('PENDING_PAYMENT', 15030),\n",
       " ('COMPLETE', 22899),\n",
       " ('PROCESSING', 8275),\n",
       " ('PAYMENT_REVIEW', 729),\n",
       " ('PENDING', 7610),\n",
       " ('ON_HOLD', 3798),\n",
       " ('SUSPECTED_FRAUD', 1558)]"
      ]
     },
     "execution_count": 11,
     "metadata": {},
     "output_type": "execute_result"
    }
   ],
   "source": [
    "reduced_rdd.collect()"
   ]
  },
  {
   "cell_type": "code",
   "execution_count": 14,
   "id": "e76f3bc3",
   "metadata": {},
   "outputs": [],
   "source": [
    "sort_rdd = reduced_rdd.sortBy(lambda x:x[1])"
   ]
  },
  {
   "cell_type": "code",
   "execution_count": 15,
   "id": "6f17b892",
   "metadata": {},
   "outputs": [
    {
     "data": {
      "text/plain": [
       "[('PAYMENT_REVIEW', 729),\n",
       " ('CANCELED', 1428),\n",
       " ('SUSPECTED_FRAUD', 1558),\n",
       " ('ON_HOLD', 3798),\n",
       " ('CLOSED', 7556),\n",
       " ('PENDING', 7610),\n",
       " ('PROCESSING', 8275),\n",
       " ('PENDING_PAYMENT', 15030),\n",
       " ('COMPLETE', 22899)]"
      ]
     },
     "execution_count": 15,
     "metadata": {},
     "output_type": "execute_result"
    }
   ],
   "source": [
    "sort_rdd.collect()"
   ]
  },
  {
   "cell_type": "code",
   "execution_count": 16,
   "id": "1bef9e1f",
   "metadata": {},
   "outputs": [],
   "source": [
    "sort_rdd = reduced_rdd.sortBy(lambda x:x[1],False)#descending"
   ]
  },
  {
   "cell_type": "code",
   "execution_count": 17,
   "id": "9a0cc277",
   "metadata": {},
   "outputs": [
    {
     "data": {
      "text/plain": [
       "[('COMPLETE', 22899),\n",
       " ('PENDING_PAYMENT', 15030),\n",
       " ('PROCESSING', 8275),\n",
       " ('PENDING', 7610),\n",
       " ('CLOSED', 7556),\n",
       " ('ON_HOLD', 3798),\n",
       " ('SUSPECTED_FRAUD', 1558),\n",
       " ('CANCELED', 1428),\n",
       " ('PAYMENT_REVIEW', 729)]"
      ]
     },
     "execution_count": 17,
     "metadata": {},
     "output_type": "execute_result"
    }
   ],
   "source": [
    "sort_rdd.collect()"
   ]
  },
  {
   "cell_type": "markdown",
   "id": "14a39569",
   "metadata": {},
   "source": [
    "# 2. Find the premium customers(top 10 who placed most number of orders)"
   ]
  },
  {
   "cell_type": "code",
   "execution_count": 3,
   "id": "b673b672",
   "metadata": {},
   "outputs": [],
   "source": [
    "orders_rdd=spark.sparkContext.textFile(\"/public/retail_db/orders/part-00000\")"
   ]
  },
  {
   "cell_type": "code",
   "execution_count": 4,
   "id": "f42d9826",
   "metadata": {},
   "outputs": [
    {
     "data": {
      "text/plain": [
       "['1,2013-07-25 00:00:00.0,11599,CLOSED',\n",
       " '2,2013-07-25 00:00:00.0,256,PENDING_PAYMENT',\n",
       " '3,2013-07-25 00:00:00.0,12111,COMPLETE',\n",
       " '4,2013-07-25 00:00:00.0,8827,CLOSED',\n",
       " '5,2013-07-25 00:00:00.0,11318,COMPLETE',\n",
       " '6,2013-07-25 00:00:00.0,7130,COMPLETE',\n",
       " '7,2013-07-25 00:00:00.0,4530,COMPLETE',\n",
       " '8,2013-07-25 00:00:00.0,2911,PROCESSING',\n",
       " '9,2013-07-25 00:00:00.0,5657,PENDING_PAYMENT',\n",
       " '10,2013-07-25 00:00:00.0,5648,PENDING_PAYMENT',\n",
       " '11,2013-07-25 00:00:00.0,918,PAYMENT_REVIEW',\n",
       " '12,2013-07-25 00:00:00.0,1837,CLOSED',\n",
       " '13,2013-07-25 00:00:00.0,9149,PENDING_PAYMENT',\n",
       " '14,2013-07-25 00:00:00.0,9842,PROCESSING',\n",
       " '15,2013-07-25 00:00:00.0,2568,COMPLETE',\n",
       " '16,2013-07-25 00:00:00.0,7276,PENDING_PAYMENT',\n",
       " '17,2013-07-25 00:00:00.0,2667,COMPLETE',\n",
       " '18,2013-07-25 00:00:00.0,1205,CLOSED',\n",
       " '19,2013-07-25 00:00:00.0,9488,PENDING_PAYMENT',\n",
       " '20,2013-07-25 00:00:00.0,9198,PROCESSING']"
      ]
     },
     "execution_count": 4,
     "metadata": {},
     "output_type": "execute_result"
    }
   ],
   "source": [
    "orders_rdd.take(20)"
   ]
  },
  {
   "cell_type": "code",
   "execution_count": 5,
   "id": "58a0c7de",
   "metadata": {},
   "outputs": [],
   "source": [
    "mapped_rdd=orders_rdd.map(lambda x: (x.split(\",\")[2],1))"
   ]
  },
  {
   "cell_type": "code",
   "execution_count": 6,
   "id": "5cbf83fc",
   "metadata": {},
   "outputs": [
    {
     "data": {
      "text/plain": [
       "[('11599', 1),\n",
       " ('256', 1),\n",
       " ('12111', 1),\n",
       " ('8827', 1),\n",
       " ('11318', 1),\n",
       " ('7130', 1),\n",
       " ('4530', 1),\n",
       " ('2911', 1),\n",
       " ('5657', 1),\n",
       " ('5648', 1),\n",
       " ('918', 1),\n",
       " ('1837', 1),\n",
       " ('9149', 1),\n",
       " ('9842', 1),\n",
       " ('2568', 1),\n",
       " ('7276', 1),\n",
       " ('2667', 1),\n",
       " ('1205', 1),\n",
       " ('9488', 1),\n",
       " ('9198', 1)]"
      ]
     },
     "execution_count": 6,
     "metadata": {},
     "output_type": "execute_result"
    }
   ],
   "source": [
    "mapped_rdd.take(20)"
   ]
  },
  {
   "cell_type": "code",
   "execution_count": 7,
   "id": "f79a9768",
   "metadata": {},
   "outputs": [],
   "source": [
    "reduced_rdd=mapped_rdd.reduceByKey(lambda x,y:x+y)"
   ]
  },
  {
   "cell_type": "code",
   "execution_count": 8,
   "id": "8e6f9530",
   "metadata": {},
   "outputs": [
    {
     "data": {
      "text/plain": [
       "[('256', 10),\n",
       " ('12111', 6),\n",
       " ('11318', 6),\n",
       " ('7130', 7),\n",
       " ('2911', 6),\n",
       " ('5657', 12),\n",
       " ('9149', 4),\n",
       " ('9842', 7),\n",
       " ('7276', 5),\n",
       " ('9488', 7),\n",
       " ('2711', 3),\n",
       " ('333', 6),\n",
       " ('656', 5),\n",
       " ('6983', 6),\n",
       " ('4189', 3),\n",
       " ('4840', 2),\n",
       " ('5863', 6),\n",
       " ('8214', 5),\n",
       " ('7776', 8),\n",
       " ('1549', 4)]"
      ]
     },
     "execution_count": 8,
     "metadata": {},
     "output_type": "execute_result"
    }
   ],
   "source": [
    "reduced_rdd.take(20)"
   ]
  },
  {
   "cell_type": "code",
   "execution_count": 9,
   "id": "0121d0fa",
   "metadata": {},
   "outputs": [],
   "source": [
    "sort_rdd = reduced_rdd.sortBy(lambda x:x[1],False)#descending"
   ]
  },
  {
   "cell_type": "code",
   "execution_count": 11,
   "id": "063c438d",
   "metadata": {},
   "outputs": [
    {
     "data": {
      "text/plain": [
       "[('5897', 16),\n",
       " ('6316', 16),\n",
       " ('12431', 16),\n",
       " ('569', 16),\n",
       " ('4320', 15),\n",
       " ('221', 15),\n",
       " ('5624', 15),\n",
       " ('5283', 15),\n",
       " ('12284', 15),\n",
       " ('5654', 15)]"
      ]
     },
     "execution_count": 11,
     "metadata": {},
     "output_type": "execute_result"
    }
   ],
   "source": [
    "sort_rdd.take(10)"
   ]
  },
  {
   "cell_type": "markdown",
   "id": "5c6105d7",
   "metadata": {},
   "source": [
    "# 3. Distinct count of customers who placed atleast one order"
   ]
  },
  {
   "cell_type": "code",
   "execution_count": 12,
   "id": "450ae8da",
   "metadata": {},
   "outputs": [],
   "source": [
    "orders_rdd=spark.sparkContext.textFile(\"/public/retail_db/orders/part-00000\")"
   ]
  },
  {
   "cell_type": "code",
   "execution_count": 13,
   "id": "e8a73165",
   "metadata": {},
   "outputs": [
    {
     "data": {
      "text/plain": [
       "['1,2013-07-25 00:00:00.0,11599,CLOSED',\n",
       " '2,2013-07-25 00:00:00.0,256,PENDING_PAYMENT',\n",
       " '3,2013-07-25 00:00:00.0,12111,COMPLETE',\n",
       " '4,2013-07-25 00:00:00.0,8827,CLOSED',\n",
       " '5,2013-07-25 00:00:00.0,11318,COMPLETE',\n",
       " '6,2013-07-25 00:00:00.0,7130,COMPLETE',\n",
       " '7,2013-07-25 00:00:00.0,4530,COMPLETE',\n",
       " '8,2013-07-25 00:00:00.0,2911,PROCESSING',\n",
       " '9,2013-07-25 00:00:00.0,5657,PENDING_PAYMENT',\n",
       " '10,2013-07-25 00:00:00.0,5648,PENDING_PAYMENT',\n",
       " '11,2013-07-25 00:00:00.0,918,PAYMENT_REVIEW',\n",
       " '12,2013-07-25 00:00:00.0,1837,CLOSED',\n",
       " '13,2013-07-25 00:00:00.0,9149,PENDING_PAYMENT',\n",
       " '14,2013-07-25 00:00:00.0,9842,PROCESSING',\n",
       " '15,2013-07-25 00:00:00.0,2568,COMPLETE',\n",
       " '16,2013-07-25 00:00:00.0,7276,PENDING_PAYMENT',\n",
       " '17,2013-07-25 00:00:00.0,2667,COMPLETE',\n",
       " '18,2013-07-25 00:00:00.0,1205,CLOSED',\n",
       " '19,2013-07-25 00:00:00.0,9488,PENDING_PAYMENT',\n",
       " '20,2013-07-25 00:00:00.0,9198,PROCESSING']"
      ]
     },
     "execution_count": 13,
     "metadata": {},
     "output_type": "execute_result"
    }
   ],
   "source": [
    "orders_rdd.take(20)"
   ]
  },
  {
   "cell_type": "code",
   "execution_count": 16,
   "id": "19bae0fb",
   "metadata": {},
   "outputs": [],
   "source": [
    "mapped_rdd=orders_rdd.map(lambda x: x.split(\",\")[2]).distinct()"
   ]
  },
  {
   "cell_type": "code",
   "execution_count": 17,
   "id": "6f0389f1",
   "metadata": {},
   "outputs": [
    {
     "data": {
      "text/plain": [
       "['256',\n",
       " '12111',\n",
       " '11318',\n",
       " '7130',\n",
       " '2911',\n",
       " '5657',\n",
       " '9149',\n",
       " '9842',\n",
       " '7276',\n",
       " '9488',\n",
       " '2711',\n",
       " '333',\n",
       " '656',\n",
       " '6983',\n",
       " '4189',\n",
       " '4840',\n",
       " '5863',\n",
       " '8214',\n",
       " '7776',\n",
       " '1549']"
      ]
     },
     "execution_count": 17,
     "metadata": {},
     "output_type": "execute_result"
    }
   ],
   "source": [
    "mapped_rdd.take(20)"
   ]
  },
  {
   "cell_type": "code",
   "execution_count": 19,
   "id": "eb4a7fce",
   "metadata": {},
   "outputs": [
    {
     "data": {
      "text/plain": [
       "12405"
      ]
     },
     "execution_count": 19,
     "metadata": {},
     "output_type": "execute_result"
    }
   ],
   "source": [
    "mapped_rdd.count()#here count acts like an action"
   ]
  },
  {
   "cell_type": "markdown",
   "id": "dd8e484a",
   "metadata": {},
   "source": [
    "# 4. Which customer has max number of closed orders"
   ]
  },
  {
   "cell_type": "code",
   "execution_count": 2,
   "id": "342fde3f",
   "metadata": {},
   "outputs": [],
   "source": [
    "orders_rdd=spark.sparkContext.textFile(\"/public/retail_db/orders/part-00000\")"
   ]
  },
  {
   "cell_type": "code",
   "execution_count": 3,
   "id": "fcd755ba",
   "metadata": {},
   "outputs": [
    {
     "data": {
      "text/plain": [
       "['1,2013-07-25 00:00:00.0,11599,CLOSED',\n",
       " '2,2013-07-25 00:00:00.0,256,PENDING_PAYMENT',\n",
       " '3,2013-07-25 00:00:00.0,12111,COMPLETE',\n",
       " '4,2013-07-25 00:00:00.0,8827,CLOSED',\n",
       " '5,2013-07-25 00:00:00.0,11318,COMPLETE',\n",
       " '6,2013-07-25 00:00:00.0,7130,COMPLETE',\n",
       " '7,2013-07-25 00:00:00.0,4530,COMPLETE',\n",
       " '8,2013-07-25 00:00:00.0,2911,PROCESSING',\n",
       " '9,2013-07-25 00:00:00.0,5657,PENDING_PAYMENT',\n",
       " '10,2013-07-25 00:00:00.0,5648,PENDING_PAYMENT',\n",
       " '11,2013-07-25 00:00:00.0,918,PAYMENT_REVIEW',\n",
       " '12,2013-07-25 00:00:00.0,1837,CLOSED',\n",
       " '13,2013-07-25 00:00:00.0,9149,PENDING_PAYMENT',\n",
       " '14,2013-07-25 00:00:00.0,9842,PROCESSING',\n",
       " '15,2013-07-25 00:00:00.0,2568,COMPLETE',\n",
       " '16,2013-07-25 00:00:00.0,7276,PENDING_PAYMENT',\n",
       " '17,2013-07-25 00:00:00.0,2667,COMPLETE',\n",
       " '18,2013-07-25 00:00:00.0,1205,CLOSED',\n",
       " '19,2013-07-25 00:00:00.0,9488,PENDING_PAYMENT',\n",
       " '20,2013-07-25 00:00:00.0,9198,PROCESSING']"
      ]
     },
     "execution_count": 3,
     "metadata": {},
     "output_type": "execute_result"
    }
   ],
   "source": [
    "orders_rdd.take(20)"
   ]
  },
  {
   "cell_type": "code",
   "execution_count": 4,
   "id": "743c4234",
   "metadata": {},
   "outputs": [],
   "source": [
    "mapped_rdd=orders_rdd.filter(lambda x: (x.split(\",\")[3]=='CLOSED'))"
   ]
  },
  {
   "cell_type": "code",
   "execution_count": 5,
   "id": "2f7d9d93",
   "metadata": {},
   "outputs": [
    {
     "data": {
      "text/plain": [
       "['1,2013-07-25 00:00:00.0,11599,CLOSED',\n",
       " '4,2013-07-25 00:00:00.0,8827,CLOSED',\n",
       " '12,2013-07-25 00:00:00.0,1837,CLOSED',\n",
       " '18,2013-07-25 00:00:00.0,1205,CLOSED',\n",
       " '24,2013-07-25 00:00:00.0,11441,CLOSED',\n",
       " '25,2013-07-25 00:00:00.0,9503,CLOSED',\n",
       " '37,2013-07-25 00:00:00.0,5863,CLOSED',\n",
       " '51,2013-07-25 00:00:00.0,12271,CLOSED',\n",
       " '57,2013-07-25 00:00:00.0,7073,CLOSED',\n",
       " '61,2013-07-25 00:00:00.0,4791,CLOSED',\n",
       " '62,2013-07-25 00:00:00.0,9111,CLOSED',\n",
       " '87,2013-07-25 00:00:00.0,3065,CLOSED',\n",
       " '90,2013-07-25 00:00:00.0,9131,CLOSED',\n",
       " '101,2013-07-25 00:00:00.0,5116,CLOSED',\n",
       " '116,2013-07-26 00:00:00.0,8763,CLOSED',\n",
       " '129,2013-07-26 00:00:00.0,9937,CLOSED',\n",
       " '133,2013-07-26 00:00:00.0,10604,CLOSED',\n",
       " '191,2013-07-26 00:00:00.0,16,CLOSED',\n",
       " '201,2013-07-26 00:00:00.0,9055,CLOSED',\n",
       " '211,2013-07-26 00:00:00.0,10372,CLOSED']"
      ]
     },
     "execution_count": 5,
     "metadata": {},
     "output_type": "execute_result"
    }
   ],
   "source": [
    "mapped_rdd.take(20)"
   ]
  },
  {
   "cell_type": "code",
   "execution_count": 6,
   "id": "02259f32",
   "metadata": {},
   "outputs": [],
   "source": [
    "mapped_rdd1=mapped_rdd.map(lambda x: (x.split(\",\")[2],1))"
   ]
  },
  {
   "cell_type": "code",
   "execution_count": 8,
   "id": "ed9c7861",
   "metadata": {},
   "outputs": [
    {
     "data": {
      "text/plain": [
       "[('11599', 1),\n",
       " ('8827', 1),\n",
       " ('1837', 1),\n",
       " ('1205', 1),\n",
       " ('11441', 1),\n",
       " ('9503', 1),\n",
       " ('5863', 1),\n",
       " ('12271', 1),\n",
       " ('7073', 1),\n",
       " ('4791', 1),\n",
       " ('9111', 1),\n",
       " ('3065', 1),\n",
       " ('9131', 1),\n",
       " ('5116', 1),\n",
       " ('8763', 1),\n",
       " ('9937', 1),\n",
       " ('10604', 1),\n",
       " ('16', 1),\n",
       " ('9055', 1),\n",
       " ('10372', 1)]"
      ]
     },
     "execution_count": 8,
     "metadata": {},
     "output_type": "execute_result"
    }
   ],
   "source": [
    "mapped_rdd1.take(20)"
   ]
  },
  {
   "cell_type": "code",
   "execution_count": 9,
   "id": "48189043",
   "metadata": {},
   "outputs": [],
   "source": [
    "mapped_rdd11=mapped_rdd1.reduceByKey(lambda x,y:x+y)"
   ]
  },
  {
   "cell_type": "code",
   "execution_count": 10,
   "id": "d793a096",
   "metadata": {},
   "outputs": [
    {
     "data": {
      "text/plain": [
       "[('5863', 1),\n",
       " ('12271', 2),\n",
       " ('7073', 1),\n",
       " ('3065', 2),\n",
       " ('5116', 2),\n",
       " ('8763', 1),\n",
       " ('10604', 2),\n",
       " ('16', 1),\n",
       " ('9055', 3),\n",
       " ('10372', 3),\n",
       " ('11715', 1),\n",
       " ('5925', 1),\n",
       " ('8309', 3),\n",
       " ('948', 1),\n",
       " ('5191', 1),\n",
       " ('7650', 2),\n",
       " ('4199', 2),\n",
       " ('6989', 1),\n",
       " ('5011', 4),\n",
       " ('11394', 1)]"
      ]
     },
     "execution_count": 10,
     "metadata": {},
     "output_type": "execute_result"
    }
   ],
   "source": [
    "mapped_rdd11.take(20)"
   ]
  },
  {
   "cell_type": "code",
   "execution_count": 11,
   "id": "b9447d53",
   "metadata": {},
   "outputs": [],
   "source": [
    "sort_rdd = mapped_rdd11.sortBy(lambda x:x[1],False)#descending"
   ]
  },
  {
   "cell_type": "code",
   "execution_count": 12,
   "id": "92f9fb18",
   "metadata": {},
   "outputs": [
    {
     "data": {
      "text/plain": [
       "[('1833', 6),\n",
       " ('1363', 5),\n",
       " ('1687', 5),\n",
       " ('5493', 5),\n",
       " ('5011', 4),\n",
       " ('8974', 4),\n",
       " ('2321', 4),\n",
       " ('3736', 4),\n",
       " ('8368', 4),\n",
       " ('2236', 4),\n",
       " ('2403', 4),\n",
       " ('7879', 4),\n",
       " ('1764', 4),\n",
       " ('4588', 4),\n",
       " ('7948', 4),\n",
       " ('7850', 4),\n",
       " ('145', 4),\n",
       " ('4282', 4),\n",
       " ('9213', 4),\n",
       " ('3631', 4)]"
      ]
     },
     "execution_count": 12,
     "metadata": {},
     "output_type": "execute_result"
    }
   ],
   "source": [
    "sort_rdd.take(20)"
   ]
  },
  {
   "cell_type": "code",
   "execution_count": null,
   "id": "7dac1c87",
   "metadata": {},
   "outputs": [],
   "source": []
  }
 ],
 "metadata": {
  "kernelspec": {
   "display_name": "Pyspark 3",
   "language": "python",
   "name": "pyspark3"
  },
  "language_info": {
   "codemirror_mode": {
    "name": "ipython",
    "version": 3
   },
   "file_extension": ".py",
   "mimetype": "text/x-python",
   "name": "python",
   "nbconvert_exporter": "python",
   "pygments_lexer": "ipython3",
   "version": "3.6.12"
  }
 },
 "nbformat": 4,
 "nbformat_minor": 5
}
